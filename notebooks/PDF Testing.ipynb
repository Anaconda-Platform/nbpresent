{
 "cells": [
  {
   "cell_type": "markdown",
   "metadata": {
    "nbpresent": {
     "id": "89756935-e727-4e1f-bc37-340952ce31ba"
    }
   },
   "source": [
    "![](https://upload.wikimedia.org/wikipedia/commons/f/fd/Ghostscript_Tiger.svg)"
   ]
  },
  {
   "cell_type": "markdown",
   "metadata": {
    "nbpresent": {
     "id": "f4dde0d9-f94a-4aef-870e-32a37607059c"
    }
   },
   "source": [
    "# NW"
   ]
  },
  {
   "cell_type": "markdown",
   "metadata": {
    "nbpresent": {
     "id": "5b59d46f-278f-4c92-8515-2fc4ed6743e0"
    }
   },
   "source": [
    "# NE"
   ]
  },
  {
   "cell_type": "markdown",
   "metadata": {
    "nbpresent": {
     "id": "ff9ab7b0-7190-48e6-9123-64a687a200bb"
    }
   },
   "source": [
    "# SE"
   ]
  },
  {
   "cell_type": "markdown",
   "metadata": {
    "nbpresent": {
     "id": "bc359781-b891-4935-b7af-485ab46f122d"
    }
   },
   "source": [
    "# SW"
   ]
  }
 ],
 "metadata": {
  "kernelspec": {
   "display_name": "Python 3",
   "language": "python",
   "name": "python3"
  },
  "language_info": {
   "codemirror_mode": {
    "name": "ipython",
    "version": 3
   },
   "file_extension": ".py",
   "mimetype": "text/x-python",
   "name": "python",
   "nbconvert_exporter": "python",
   "pygments_lexer": "ipython3",
   "version": "3.5.0"
  },
  "nbpresent": {
   "slides": {
    "114e0b67-309e-4aa7-8c95-ed5cdab0a8de": {
     "id": "114e0b67-309e-4aa7-8c95-ed5cdab0a8de",
     "layout": "manual",
     "prev": null,
     "regions": {
      "da1195cf-68c4-49b5-9a6e-9838e1d7d0b9": {
       "attrs": {
        "height": 0.9539106145251397,
        "treemap:weight": 1,
        "width": 0.5184182960893855,
        "x": 0,
        "y": 0
       },
       "content": {
        "cell": "89756935-e727-4e1f-bc37-340952ce31ba",
        "part": "source"
       },
       "id": "da1195cf-68c4-49b5-9a6e-9838e1d7d0b9"
      }
     }
    },
    "16b21438-050a-446a-b7b9-0e47e59dc3c8": {
     "id": "16b21438-050a-446a-b7b9-0e47e59dc3c8",
     "layout": "manual",
     "prev": "e226a815-a2c6-4c85-87ff-ab39903fad02",
     "regions": {
      "233e5c8f-1c1d-4520-a4a4-6fcfb1e17775": {
       "attrs": {
        "height": 0.06526029072514519,
        "treemap:weight": 1,
        "width": 0.0604404131576753,
        "x": 0.0006996268656716419,
        "y": 0.9322521470858001
       },
       "content": {
        "cell": "bc359781-b891-4935-b7af-485ab46f122d",
        "part": "source"
       },
       "id": "233e5c8f-1c1d-4520-a4a4-6fcfb1e17775"
      },
      "646c70dd-d81e-46b7-8859-7ac4c3b122d2": {
       "attrs": {
        "height": 0.8,
        "width": 0.8,
        "x": 0.1,
        "y": 0.1
       },
       "content": {
        "cell": "89756935-e727-4e1f-bc37-340952ce31ba",
        "part": "source"
       },
       "id": "646c70dd-d81e-46b7-8859-7ac4c3b122d2"
      },
      "d79cd8c3-8200-4235-ba56-52d592b5f0d3": {
       "attrs": {
        "height": 0.047576363990105376,
        "treemap:weight": 1,
        "width": 0.03064568915200531,
        "x": 0.9628691736846495,
        "y": 0.9472886961838849
       },
       "content": {
        "cell": "ff9ab7b0-7190-48e6-9123-64a687a200bb",
        "part": "source"
       },
       "id": "d79cd8c3-8200-4235-ba56-52d592b5f0d3"
      },
      "e8b5f13b-eef0-45f8-bd50-8ac72062548a": {
       "attrs": {
        "height": 0.05997943244670503,
        "treemap:weight": 1,
        "width": 0.06322698657550235,
        "x": 0.0015360522804969475,
        "y": 0.0020845493204369584
       },
       "content": {
        "cell": "f4dde0d9-f94a-4aef-870e-32a37607059c",
        "part": "source"
       },
       "id": "e8b5f13b-eef0-45f8-bd50-8ac72062548a"
      },
      "f9327150-06aa-40e3-9a00-afa0259f58fc": {
       "attrs": {
        "height": 0.06768531643458685,
        "treemap:weight": 1,
        "width": 0.059164304177436934,
        "x": 0.9408356958225634,
        "y": 0
       },
       "content": {
        "cell": "5b59d46f-278f-4c92-8515-2fc4ed6743e0",
        "part": "source"
       },
       "id": "f9327150-06aa-40e3-9a00-afa0259f58fc"
      }
     }
    },
    "e226a815-a2c6-4c85-87ff-ab39903fad02": {
     "id": "e226a815-a2c6-4c85-87ff-ab39903fad02",
     "layout": "manual",
     "prev": "114e0b67-309e-4aa7-8c95-ed5cdab0a8de",
     "regions": {
      "5b25ef1a-1f35-4c7e-bd4a-367bff86729b": {
       "attrs": {
        "height": 0.5502793296089385,
        "treemap:weight": 1,
        "width": 0.3825069832402235,
        "x": 0.6103110827139112,
        "y": 0.012119071312351211
       },
       "content": {
        "cell": "89756935-e727-4e1f-bc37-340952ce31ba",
        "part": "source"
       },
       "id": "5b25ef1a-1f35-4c7e-bd4a-367bff86729b"
      }
     }
    }
   }
  }
 },
 "nbformat": 4,
 "nbformat_minor": 0
}
