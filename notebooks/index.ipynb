{
 "cells": [
  {
   "cell_type": "markdown",
   "metadata": {
    "nbpresent": {
     "id": "1da31523-5dbc-422b-ac97-17bc3067187e"
    }
   },
   "source": [
    "# nbpresent"
   ]
  },
  {
   "cell_type": "code",
   "execution_count": 12,
   "metadata": {
    "collapsed": false,
    "nbpresent": {
     "id": "ff127279-0f9e-44c6-9463-abe9c91f98b7"
    }
   },
   "outputs": [
    {
     "data": {
      "text/html": [
       "<div class=\"text-right\">\n",
       "    <a class=\"btn btn-link\">\n",
       "        Documentation\n",
       "    </a>\n",
       "    <a class=\"btn btn-link\">\n",
       "         Github\n",
       "    </a>\n",
       "</div>"
      ],
      "text/plain": [
       "<IPython.core.display.HTML object>"
      ]
     },
     "metadata": {},
     "output_type": "display_data"
    }
   ],
   "source": [
    "%%html\n",
    "<div class=\"text-right\">\n",
    "    <a class=\"btn btn-link\">\n",
    "        Documentation\n",
    "    </a>\n",
    "    <a class=\"btn btn-link\">\n",
    "         Github\n",
    "    </a>\n",
    "</div>"
   ]
  },
  {
   "cell_type": "code",
   "execution_count": null,
   "metadata": {
    "collapsed": true
   },
   "outputs": [],
   "source": []
  }
 ],
 "metadata": {
  "kernelspec": {
   "display_name": "Python 3",
   "language": "python",
   "name": "python3"
  },
  "language_info": {
   "codemirror_mode": {
    "name": "ipython",
    "version": 3
   },
   "file_extension": ".py",
   "mimetype": "text/x-python",
   "name": "python",
   "nbconvert_exporter": "python",
   "pygments_lexer": "ipython3",
   "version": "3.5.1"
  },
  "nbpresent": {
   "slides": {
    "48ec6aa2-14f0-438b-9263-1e576e4aa716": {
     "id": "48ec6aa2-14f0-438b-9263-1e576e4aa716",
     "prev": null,
     "regions": {
      "cefc71f8-8dbc-4784-8153-4502c8d6cffe": {
       "attrs": {
        "height": 0.924388539482879,
        "width": 0.1679245283018868,
        "x": 0.8234856470257544,
        "y": 0.011962373462320838
       },
       "content": {
        "cell": "ff127279-0f9e-44c6-9463-abe9c91f98b7",
        "part": "outputs"
       },
       "id": "cefc71f8-8dbc-4784-8153-4502c8d6cffe"
      },
      "f9231859-045e-4b04-b37c-ac8aa0433523": {
       "attrs": {
        "height": 0.1822501747030048,
        "width": 0.8,
        "x": 0.008143490214679644,
        "y": 0.013350237557046885
       },
       "content": {
        "cell": "1da31523-5dbc-422b-ac97-17bc3067187e",
        "part": "source"
       },
       "id": "f9231859-045e-4b04-b37c-ac8aa0433523"
      }
     }
    }
   }
  }
 },
 "nbformat": 4,
 "nbformat_minor": 0
}
