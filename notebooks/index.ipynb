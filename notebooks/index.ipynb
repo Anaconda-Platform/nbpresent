{
 "cells": [
  {
   "cell_type": "code",
   "execution_count": 18,
   "metadata": {
    "collapsed": true
   },
   "outputs": [],
   "source": [
    "from IPython.display import Markdown, Image"
   ]
  },
  {
   "cell_type": "code",
   "execution_count": 31,
   "metadata": {
    "collapsed": false,
    "nbpresent": {
     "id": "ff127279-0f9e-44c6-9463-abe9c91f98b7"
    }
   },
   "outputs": [
    {
     "data": {
      "text/html": [
       "<h1 class=\"pull-left\">\n",
       "    nbpresent\n",
       "</h1>\n",
       "<div class=\"pull-right\">\n",
       "    <a class=\"btn btn-link btn-lg\" href=\"./docs/\">\n",
       "        Documentation\n",
       "    </a>\n",
       "    <a class=\"btn btn-link btn-lg\"  href=\"https://github.com/Anaconda-Server/nbpresent\">\n",
       "         Github\n",
       "    </a>\n",
       "</div>"
      ],
      "text/plain": [
       "<IPython.core.display.HTML object>"
      ]
     },
     "metadata": {},
     "output_type": "display_data"
    }
   ],
   "source": [
    "%%html\n",
    "<h1 class=\"pull-left\">\n",
    "    nbpresent\n",
    "</h1>\n",
    "<div class=\"pull-right\">\n",
    "    <a class=\"btn btn-link btn-lg\" href=\"./docs/\">\n",
    "        Documentation\n",
    "    </a>\n",
    "    <a class=\"btn btn-link btn-lg\"  href=\"https://github.com/Anaconda-Server/nbpresent\">\n",
    "         Github\n",
    "    </a>\n",
    "</div>\n"
   ]
  },
  {
   "cell_type": "markdown",
   "metadata": {
    "nbpresent": {
     "id": "cd8f4abf-68d5-4e1b-b769-6cabcfcbc1dc"
    }
   },
   "source": [
    "## Work Your Way\n",
    "- build jupyter notebooks with your favorite libraries\n",
    "  - [bokeh](http://bokeh.pydata.org/en/latest/)\n",
    "  - [ipywidgets](https://github.com/ipython/ipywidgets)\n",
    "  - mathjax"
   ]
  },
  {
   "cell_type": "markdown",
   "metadata": {
    "nbpresent": {
     "id": "fadbe17f-1b20-4d6c-b1ae-08dae6e3fa9f"
    }
   },
   "source": [
    "## Build Your Presentations\n",
    "- use pixel-level positioning, or data-driven layouts\n",
    "  - [treemap](https://github.com/mbostock/d3/wiki/Treemap-Layout)"
   ]
  },
  {
   "cell_type": "markdown",
   "metadata": {
    "nbpresent": {
     "id": "06ce94f9-8edd-489e-a883-f79093f69948"
    }
   },
   "source": [
    "## Publish and Archive\n",
    "- download as HTML .zip archive, or PDF "
   ]
  }
 ],
 "metadata": {
  "kernelspec": {
   "display_name": "Python 3",
   "language": "python",
   "name": "python3"
  },
  "language_info": {
   "codemirror_mode": {
    "name": "ipython",
    "version": 3
   },
   "file_extension": ".py",
   "mimetype": "text/x-python",
   "name": "python",
   "nbconvert_exporter": "python",
   "pygments_lexer": "ipython3",
   "version": "3.5.1"
  },
  "nbpresent": {
   "slides": {
    "87bf7541-4990-4a72-a12c-0576e1327bb4": {
     "id": "87bf7541-4990-4a72-a12c-0576e1327bb4",
     "layout": "manual",
     "prev": null,
     "regions": {
      "80ce03f2-7d65-4926-8727-4c206ecb7d62": {
       "attrs": {
        "height": 0.15055612888430225,
        "treemap:weight": 1,
        "width": 1,
        "x": 0,
        "y": 0.005503955968352253
       },
       "content": {
        "cell": "ff127279-0f9e-44c6-9463-abe9c91f98b7",
        "part": "outputs"
       },
       "id": "80ce03f2-7d65-4926-8727-4c206ecb7d62"
      },
      "9fe4816a-96bc-4d4f-b147-100c3e683cc2": {
       "attrs": {
        "height": 0.8201811718839583,
        "width": 0.34489164086687313,
        "x": 0.34974200206398337,
        "y": 0.16237816764132554
       },
       "content": {
        "cell": "fadbe17f-1b20-4d6c-b1ae-08dae6e3fa9f",
        "part": "source"
       },
       "id": "9fe4816a-96bc-4d4f-b147-100c3e683cc2"
      },
      "b56e258b-1976-43d0-8938-8408c7700181": {
       "attrs": {
        "height": 0.8311890838206628,
        "width": 0.3438596491228071,
        "x": 0.0019607843137254668,
        "y": 0.15687421167297322
       },
       "content": {
        "cell": "cd8f4abf-68d5-4e1b-b769-6cabcfcbc1dc",
        "part": "source"
       },
       "id": "b56e258b-1976-43d0-8938-8408c7700181"
      },
      "c307b590-5071-47de-ba34-1c5f6d514c29": {
       "attrs": {
        "height": 0.822015823873409,
        "width": 0.2922600619195047,
        "x": 0.7026831785345717,
        "y": 0.16421281963077622
       },
       "content": {
        "cell": "06ce94f9-8edd-489e-a883-f79093f69948",
        "part": "source"
       },
       "id": "c307b590-5071-47de-ba34-1c5f6d514c29"
      }
     }
    }
   }
  }
 },
 "nbformat": 4,
 "nbformat_minor": 0
}
