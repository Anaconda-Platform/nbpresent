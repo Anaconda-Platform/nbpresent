{
 "cells": [
  {
   "cell_type": "markdown",
   "metadata": {
    "nbpresent": {
     "id": "07b9c345-f14e-4389-b959-fb5fe9d49d05"
    }
   },
   "source": [
    "# nbpresent\n",
    "> remix your Jupyter Notebooks as interactive slideshows"
   ]
  },
  {
   "cell_type": "markdown",
   "metadata": {},
   "source": [
    "## Installation\n",
    "```shell\n",
    "pip install nbpresent\n",
    "python -m nbpresent.install\n",
    "```\n",
    "\n",
    "Then either run \n",
    "```python\n",
    "%reload_ext nbpresent\n",
    "```\n",
    "\n",
    "_every time you start the notebook or _enable_ the extension for every notebook launch:\n",
    "```shell\n",
    "python -m nbpresent.install --enable\n",
    "```\n",
    "\n",
    "\n",
    "### Coming soon\n",
    "- [conda package](https://github.com/ContinuumIO/nbpresent/issues/1)"
   ]
  },
  {
   "cell_type": "markdown",
   "metadata": {},
   "source": [
    "## Export\n",
    "Stock `nbconvert` doesn't store quite enough information, so you'll need to do something like this:\n",
    "```shell\n",
    "nbpresent -i notebooks/README.ipynb -o README.html\n",
    "```\n",
    "The resulting file can be hosted and viewed (but not edited!) on any site with fallback to Github.\n",
    "\n",
    "If you have installed [nbbrowserpdf](https://github.com/Anaconda-Server/nbbrowserpdf), you can also export to pdf:\n",
    "```shell\n",
    "nbpresent -i notebooks/README.ipynb -f pdf -o README.pdf\n",
    "```\n",
    "\n",
    "You can also pass in and get back streams:\n",
    "```shell\n",
    "cmd_that_generates_ipynb | nbpresent -f pdf > README.pdf\n",
    "```\n",
    "\n",
    "Here's the whole doc:"
   ]
  },
  {
   "cell_type": "code",
   "execution_count": 3,
   "metadata": {
    "collapsed": false
   },
   "outputs": [
    {
     "name": "stdout",
     "output_type": "stream",
     "text": [
      "usage: nbpresent [-h] [-i IPYNB] [-o OUTFILE] [-f {html,zip,pdf}]\r\n",
      "\r\n",
      "Generate a static nbpresent presentation from a Jupyter Notebook\r\n",
      "\r\n",
      "optional arguments:\r\n",
      "  -h, --help            show this help message and exit\r\n",
      "  -i IPYNB, --ipynb IPYNB\r\n",
      "                        Input file (otherwise read from stdin)\r\n",
      "  -o OUTFILE, --outfile OUTFILE\r\n",
      "                        Output file (otherwise write to stdout)\r\n",
      "  -f {html,zip,pdf}, --out-format {html,zip,pdf}\r\n",
      "                        Output format\r\n"
     ]
    }
   ],
   "source": [
    "!nbpresent --help"
   ]
  },
  {
   "cell_type": "markdown",
   "metadata": {},
   "source": [
    "## Development\n",
    "There are several development scenarios..."
   ]
  },
  {
   "cell_type": "markdown",
   "metadata": {
    "collapsed": true
   },
   "source": [
    "### The Hard Way\n",
    "The `nbpresent` nbextension is built from `src` in a checked out repo with:\n",
    "- less for style\n",
    "- babel for es2015\n",
    "- browserify for packaging\n",
    "\n",
    "These are installed via `npm`:\n",
    "```shell\n",
    "npm install\n",
    "```\n",
    "\n",
    "To build everything with sourcemaps:\n",
    "```shell\n",
    "npm run build\n",
    "```\n",
    "\n",
    "To rebuild on every save:\n",
    "```shell\n",
    "npm run watch\n",
    "```\n",
    "\n",
    "To build everything, and optimize it:\n",
    "```shell\n",
    "npm run build\n",
    "```\n",
    "\n",
    "To ensure that you always get the right assets, install the nbextension with the `symlink`, `force` and `enable` options:\n",
    "```shell\n",
    "python -m nbpresent.install --overwrite --symlink --enable --user\n",
    "```\n",
    "\n",
    "Run the tests\n",
    "```shell\n",
    "npm run test\n",
    "```\n",
    "\n",
    "Build the conda package\n",
    "```shell\n",
    "npm run conda-build\n",
    "```"
   ]
  },
  {
   "cell_type": "markdown",
   "metadata": {},
   "source": [
    "### Developing with conda\n",
    "A conda package, which pre-builds the static assets and installs itself into the local conda environment, is built from `conda.recipe`\n",
    "\n",
    "```\n",
    "conda build conda.recipe\n",
    "```\n",
    "\n",
    "When developing with conda, you may want to use your conda environment to store assets and configuration:\n",
    "```shell\n",
    "python -m nbpresent.install --overwrite --symlink --enable --prefix=\"${CONDA_ENV_PATH}\"\n",
    "```"
   ]
  }
 ],
 "metadata": {
  "kernelspec": {
   "display_name": "Python 3",
   "language": "python",
   "name": "python3"
  },
  "language_info": {
   "codemirror_mode": {
    "name": "ipython",
    "version": 3
   },
   "file_extension": ".py",
   "mimetype": "text/x-python",
   "name": "python",
   "nbconvert_exporter": "python",
   "pygments_lexer": "ipython3",
   "version": "3.5.0"
  }
 },
 "nbformat": 4,
 "nbformat_minor": 0
}
