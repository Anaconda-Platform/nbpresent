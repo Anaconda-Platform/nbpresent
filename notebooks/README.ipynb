{
 "cells": [
  {
   "cell_type": "markdown",
   "metadata": {
    "nbpresent": {
     "id": "07b9c345-f14e-4389-b959-fb5fe9d49d05"
    }
   },
   "source": [
    "# nbpresent\n",
    "> remix your Jupyter Notebooks as interactive slideshows"
   ]
  },
  {
   "cell_type": "markdown",
   "metadata": {},
   "source": [
    "## Installation\n",
    "```shell\n",
    "pip install nbpresent\n",
    "python -m nbpresent.install\n",
    "```\n",
    "\n",
    "Then either run \n",
    "```python\n",
    "%reload_ext nbpresent\n",
    "```\n",
    "\n",
    "_every time you start the notebook_ or _enable_ the extension for every notebook launch:\n",
    "```shell\n",
    "python -m nbpresent.install --enable\n",
    "```"
   ]
  },
  {
   "cell_type": "markdown",
   "metadata": {},
   "source": [
    "## Export\n",
    "Stock `nbconvert` doesn't store quite enough information, so you'll need to do something like this:\n",
    "```shell\n",
    "nbpresent -i notebooks/README.ipynb -o README.html\n",
    "```\n",
    "The resulting file can be hosted and viewed (but not edited!) on any site with fallback to Github.\n",
    "\n",
    "If you have installed [nbbrowserpdf](https://github.com/Anaconda-Server/nbbrowserpdf), you can also export to pdf:\n",
    "```shell\n",
    "nbpresent -i notebooks/README.ipynb -f pdf -o README.pdf\n",
    "```\n",
    "\n",
    "You can also pass in and get back streams:\n",
    "```shell\n",
    "cmd_that_generates_ipynb | nbpresent -f pdf > README.pdf\n",
    "```\n",
    "\n",
    "Here's the whole doc:"
   ]
  },
  {
   "cell_type": "code",
   "execution_count": 2,
   "metadata": {
    "collapsed": false
   },
   "outputs": [
    {
     "name": "stdout",
     "output_type": "stream",
     "text": [
      "usage: nbpresent [-h] [-i IPYNB] [-o OUTFILE] [-f {html,zip,pdf}]\r\n",
      "\r\n",
      "Generate a static nbpresent presentation from a Jupyter Notebook\r\n",
      "\r\n",
      "optional arguments:\r\n",
      "  -h, --help            show this help message and exit\r\n",
      "  -i IPYNB, --ipynb IPYNB\r\n",
      "                        Input file (otherwise read from stdin)\r\n",
      "  -o OUTFILE, --outfile OUTFILE\r\n",
      "                        Output file (otherwise write to stdout)\r\n",
      "  -f {html,zip,pdf}, --out-format {html,zip,pdf}\r\n",
      "                        Output format\r\n"
     ]
    }
   ],
   "source": [
    "!nbpresent --help"
   ]
  },
  {
   "cell_type": "markdown",
   "metadata": {},
   "source": [
    "## Development\n",
    "This assumes you have cloned this repository locally:\n",
    "```\n",
    "git clone https://github.com/Anaconda-Server/nbpresent.git\n",
    "cd nbpresent\n",
    "```"
   ]
  },
  {
   "cell_type": "markdown",
   "metadata": {},
   "source": [
    "### Repo Architecture\n",
    "\n",
    "The `nbpresent` nbextension is built from `./src` into `./nbpresent/static/nbresent` with:\n",
    "- `less` for style\n",
    "- `es6` (via `babel`) for javascript\n",
    "- `browserify` for packaging\n",
    "\n",
    "The `nbpresent` python module (server component) is stored in the `/nbpresent` folder"
   ]
  },
  {
   "cell_type": "markdown",
   "metadata": {},
   "source": [
    "### Getting Started\n",
    "You'll need conda installed, either from [Anaconda](https://www.continuum.io/downloads) or [miniconda](http://conda.pydata.org/miniconda.html). You can import a Python 3.5 development environment named `nbpresent` from `./environment.yml`.\n",
    "\n",
    "```shell\n",
    "conda update env\n",
    "source activate nbpresent\n",
    "```\n",
    "\n",
    "We _still_ use `npm` for a lot of dependencies, so then run:\n",
    "```shell\n",
    "npm install\n",
    "npm run build:all\n",
    "```"
   ]
  },
  {
   "cell_type": "markdown",
   "metadata": {},
   "source": [
    "### Ensure development asset loading\n",
    "To ensure that you always get the right assets, install the nbextension with the `symlink`, `force` and `enable` options:\n",
    "```shell\n",
    "python -m nbpresent.install --overwrite --symlink --enable --user\n",
    "```\n",
    "You may also want to pass in `--prefix` instead of user."
   ]
  },
  {
   "cell_type": "markdown",
   "metadata": {},
   "source": [
    "### Chore Automation\n",
    "| Task | Command |\n",
    "|-|-|-|\n",
    "| Build all of the front end assets with sourcemaps for development | `npm run build` |\n",
    "| Rebuild on every save | `npm run watch` |\n",
    "| Rebuild all of the front end assets, and optimize it | `npm run dist` |\n",
    "| Run the CasperJS and `nose` tests  | `npm run test` |\n",
    "| Check code style |  `npm run lint` |\n",
    "| Build the conda package | `npm run pkg:conda` |\n",
    "| Build and upload the pypi package | `npm run pkg:pypi` |\n",
    "| Build the ESDoc and Sphinx documentation | `npm run docs` |"
   ]
  }
 ],
 "metadata": {
  "kernelspec": {
   "display_name": "Python 3",
   "language": "python",
   "name": "python3"
  },
  "language_info": {
   "codemirror_mode": {
    "name": "ipython",
    "version": 3
   },
   "file_extension": ".py",
   "mimetype": "text/x-python",
   "name": "python",
   "nbconvert_exporter": "python",
   "pygments_lexer": "ipython3",
   "version": "3.5.0"
  }
 },
 "nbformat": 4,
 "nbformat_minor": 0
}
